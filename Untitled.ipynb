{
 "cells": [
  {
   "cell_type": "code",
   "execution_count": 2,
   "metadata": {},
   "outputs": [],
   "source": [
    "import numpy as np\n",
    "import matplotlib.pyplot as plt"
   ]
  },
  {
   "cell_type": "code",
   "execution_count": null,
   "metadata": {},
   "outputs": [],
   "source": [
    "def mandel(width, height):\n",
    "    image = [[0]*width]*height\n",
    "    for i in range(width):\n",
    "        for j in range(height):\n",
    "            x0 = i/width*2.47-2.00\n",
    "            y0 = j/height*2.24-1.12\n",
    "            x, y = 0, 0\n",
    "            x2, y2 = 0, 0\n",
    "            k = 0\n",
    "            while((x2 + y2 <= 4) and (k < 1000)):\n",
    "                y = 2*x*y + y0\n",
    "                x = x2-y2 + x0\n",
    "                x2 = x*x\n",
    "                y2 = y*y\n",
    "                i += 1\n",
    "            image[i][j] =  k\n",
    "    return image\n",
    "data = mandel(50, 50)\n",
    "plot = plt.figure(figsize=(15,15),dpi=200)\n",
    "plot.add_axes()\n",
    "pixel_plot = plt.imshow(\n",
    "  data, cmap='Plasma', interpolation='nearest', origin='lower')"
   ]
  },
  {
   "cell_type": "code",
   "execution_count": null,
   "metadata": {},
   "outputs": [],
   "source": []
  }
 ],
 "metadata": {
  "kernelspec": {
   "display_name": "Python 3",
   "language": "python",
   "name": "python3"
  },
  "language_info": {
   "codemirror_mode": {
    "name": "ipython",
    "version": 3
   },
   "file_extension": ".py",
   "mimetype": "text/x-python",
   "name": "python",
   "nbconvert_exporter": "python",
   "pygments_lexer": "ipython3",
   "version": "3.8.5"
  }
 },
 "nbformat": 4,
 "nbformat_minor": 4
}
